{
 "cells": [
  {
   "cell_type": "markdown",
   "metadata": {},
   "source": [
    "Introduction:\n",
    "\n",
    "For this project, we will be aiming to analyze safety data in New York City from May 1st 2021 to May 1st 2022 and try and get a sense for the best place to live in New York City in order to avoid the most egregious crimes. We will comb through the dataset and determine the most and least annoying crimes for us to deal with personally, utilize graphs to show the different types of incidents and how their frequencies change over time, as well as use maps to visually interpret the safest and most dangerous areas in the Big Apple.\n",
    "\n",
    "Motivation:\n",
    "\n",
    "The two of us both lived and grew up in New Jersey for our entire lives. We’ve both taken many trips to New York City over the years and have grown attached to the area, as well as the idea of living there and being in close proximity to all of our family and friends. As Computer Science students, the two of us are both striving to work in New York City next summer as well as after graduating, and want to make sure that we can find the safest place to live in the busy city. Through this tutorial, we can not only determine the best place to live for ourselves in respect to safety, but also hopefully show other students and people with a desire to move to New York City where they should live to maximize their safety."
   ]
  },
  {
   "cell_type": "code",
   "execution_count": null,
   "metadata": {},
   "outputs": [],
   "source": [
    "from azureml.opendatasets import NycSafety\n",
    "from datetime import datetime\n",
    "from dateutil import parser\n",
    "\n",
    "start_date = parser.parse('2021-05-01')\n",
    "end_date = parser.parse('2022-05-01')\n",
    "safety = NycSafety(start_date=start_date, end_date=end_date)\n",
    "safety = safety.to_pandas_dataframe()\n",
    "safety.head()"
   ]
  }
 ],
 "metadata": {
  "kernelspec": {
   "display_name": "Python 3",
   "language": "python",
   "name": "python3"
  },
  "language_info": {
   "codemirror_mode": {
    "name": "ipython",
    "version": 3
   },
   "file_extension": ".py",
   "mimetype": "text/x-python",
   "name": "python",
   "nbconvert_exporter": "python",
   "pygments_lexer": "ipython3",
   "version": "3.8.5"
  }
 },
 "nbformat": 4,
 "nbformat_minor": 4
}
