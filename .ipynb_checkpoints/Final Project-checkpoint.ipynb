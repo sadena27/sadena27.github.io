{
 "cells": [
  {
   "cell_type": "markdown",
   "metadata": {},
   "source": [
    "# CMSC320 Final Project: Analysis on New York City Safety Data"
   ]
  },
  {
   "cell_type": "markdown",
   "metadata": {},
   "source": [
    "## Dhruv Raval and Sadena Rishindran"
   ]
  },
  {
   "cell_type": "markdown",
   "metadata": {},
   "source": [
    "Introduction:\n",
    "\n",
    "For this project, we will be aiming to analyze safety data in New York City from May 1st 2021 to May 1st 2022 and try and get a sense for the best place to live in New York City in order to avoid the most egregious crimes. We will comb through the dataset and determine the most and least annoying crimes for us to deal with personally, utilize graphs to show the different types of incidents and how their frequencies change over time, as well as use maps to visually interpret the safest and most dangerous areas in the Big Apple.\n",
    "\n",
    "Motivation:\n",
    "\n",
    "The two of us both lived and grew up in New Jersey for our entire lives. We’ve both taken many trips to New York City over the years and have grown attached to the area, as well as the idea of living there and being in close proximity to all of our family and friends. As Computer Science students, the two of us are both striving to work in New York City next summer as well as after graduating, and want to make sure that we can find the safest place to live in the busy city. Through this tutorial, we can not only determine the best place to live for ourselves in respect to safety, but also hopefully show other students and people with a desire to move to New York City where they should live to maximize their safety."
   ]
  },
  {
   "cell_type": "code",
   "execution_count": null,
   "metadata": {},
   "outputs": [],
   "source": [
    "from azureml.opendatasets import NycSafety\n",
    "from datetime import datetime\n",
    "from dateutil import parser\n",
    "\n",
    "start_date = parser.parse('2022-04-17')\n",
    "end_date = parser.parse('2022-05-01')\n",
    "data = NycSafety(start_date=start_date, end_date=end_date)\n",
    "df = data.to_pandas_dataframe()\n",
    "df.head()"
   ]
  },
  {
   "cell_type": "code",
   "execution_count": 2,
   "metadata": {},
   "outputs": [],
   "source": [
    "print(df['dataType'].unique())\n",
    "print(df['source'].unique())\n",
    "print(df['extendedProperties'].unique())\n",
    "print(df['dataSubtype'].unique())"
   ]
  },
  {
   "cell_type": "markdown",
   "metadata": {},
   "source": [
    "After looking at the rows above and realizing that all of them are just the same value, we decided that it would be best to remove these rows entirely in order to not clutter our data. These columns were also not relevant to our data analysis."
   ]
  },
  {
   "cell_type": "code",
   "execution_count": 3,
   "metadata": {},
   "outputs": [],
   "source": [
    "df = df.drop(columns=['dataType', 'dataSubtype', 'extendedProperties', 'source'])\n",
    "df.head()"
   ]
  },
  {
   "cell_type": "code",
   "execution_count": 4,
   "metadata": {},
   "outputs": [],
   "source": [
    "len(df['category'].unique())"
   ]
  },
  {
   "cell_type": "markdown",
   "metadata": {},
   "source": [
    "We can see that there are 171 different values of service request categories so we'll just stick to the top 5 most common service requests."
   ]
  },
  {
   "cell_type": "code",
   "execution_count": 5,
   "metadata": {},
   "outputs": [],
   "source": [
    "requests_top_5 = df['category'].value_counts().head(5).to_dict().keys()\n",
    "requests_top_5"
   ]
  },
  {
   "cell_type": "markdown",
   "metadata": {},
   "source": [
    "We'll get rid of the rows that don't have a service request that are the 5 most frequent."
   ]
  },
  {
   "cell_type": "code",
   "execution_count": 6,
   "metadata": {},
   "outputs": [],
   "source": [
    "df = df[df['category'].isin(requests_top_5)]"
   ]
  },
  {
   "cell_type": "markdown",
   "metadata": {},
   "source": [
    "Now we're going to use the Federal Communications Comission API to get the county of each row based on the latitude and longitude and add it as a new column."
   ]
  },
  {
   "cell_type": "code",
   "execution_count": 8,
   "metadata": {},
   "outputs": [],
   "source": [
    "# import requests\n",
    "# import numpy as np\n",
    "# df['county'] = np.NaN\n",
    "\n",
    "# for index, row in df.iterrows():\n",
    "#     latitude = df.at[index, 'latitude']\n",
    "#     longitude = df.at[index, 'longitude']\n",
    "#     res = requests.get(f\"https://geo.fcc.gov/api/census/block/find?latitude={latitude}&longitude={longitude}&censusYear=2020&format=json\")\n",
    "#     if 'County' in res.json().keys() and 'name' in res.json()['County'].keys():\n",
    "#             county = res.json()['County']['name']\n",
    "#             df.at[index, 'county'] = county"
   ]
  },
  {
   "cell_type": "markdown",
   "metadata": {},
   "source": [
    "Now we're going to get rid of the rows that don't have a county."
   ]
  },
  {
   "cell_type": "code",
   "execution_count": 51,
   "metadata": {},
   "outputs": [],
   "source": [
    "df = df.dropna(subset=['county'])"
   ]
  },
  {
   "cell_type": "markdown",
   "metadata": {},
   "source": [
    "Each of the borough's in New York City correspond to counties so we're going to add a column with the borough of each row based on the county. If a given county does't correspond to a borough (aka it is not in the dictionary below), we'll drop that row."
   ]
  },
  {
   "cell_type": "code",
   "execution_count": 59,
   "metadata": {},
   "outputs": [
    {
     "data": {
      "text/html": [
       "<div>\n",
       "<style scoped>\n",
       "    .dataframe tbody tr th:only-of-type {\n",
       "        vertical-align: middle;\n",
       "    }\n",
       "\n",
       "    .dataframe tbody tr th {\n",
       "        vertical-align: top;\n",
       "    }\n",
       "\n",
       "    .dataframe thead th {\n",
       "        text-align: right;\n",
       "    }\n",
       "</style>\n",
       "<table border=\"1\" class=\"dataframe\">\n",
       "  <thead>\n",
       "    <tr style=\"text-align: right;\">\n",
       "      <th></th>\n",
       "      <th>dateTime</th>\n",
       "      <th>category</th>\n",
       "      <th>subcategory</th>\n",
       "      <th>status</th>\n",
       "      <th>address</th>\n",
       "      <th>latitude</th>\n",
       "      <th>longitude</th>\n",
       "      <th>county</th>\n",
       "      <th>borough</th>\n",
       "    </tr>\n",
       "  </thead>\n",
       "  <tbody>\n",
       "    <tr>\n",
       "      <th>0</th>\n",
       "      <td>2022-04-27 21:33:22</td>\n",
       "      <td>Illegal Parking</td>\n",
       "      <td>Commercial Overnight Parking</td>\n",
       "      <td>Closed</td>\n",
       "      <td>60-67 60 DRIVE</td>\n",
       "      <td>40.715390</td>\n",
       "      <td>-73.903462</td>\n",
       "      <td>Queens County</td>\n",
       "      <td>Queens</td>\n",
       "    </tr>\n",
       "    <tr>\n",
       "      <th>1</th>\n",
       "      <td>2022-04-27 19:41:34</td>\n",
       "      <td>Noise - Street/Sidewalk</td>\n",
       "      <td>Loud Music/Party</td>\n",
       "      <td>Closed</td>\n",
       "      <td>246 FRANKLIN STREET</td>\n",
       "      <td>40.734386</td>\n",
       "      <td>-73.958320</td>\n",
       "      <td>Kings County</td>\n",
       "      <td>Brooklyn</td>\n",
       "    </tr>\n",
       "    <tr>\n",
       "      <th>2</th>\n",
       "      <td>2022-04-26 06:47:28</td>\n",
       "      <td>HEAT/HOT WATER</td>\n",
       "      <td>ENTIRE BUILDING</td>\n",
       "      <td>Closed</td>\n",
       "      <td>1425 UNIVERSITY AVENUE</td>\n",
       "      <td>40.843456</td>\n",
       "      <td>-73.924705</td>\n",
       "      <td>Bronx County</td>\n",
       "      <td>Bronx</td>\n",
       "    </tr>\n",
       "    <tr>\n",
       "      <th>3</th>\n",
       "      <td>2022-04-17 00:03:22</td>\n",
       "      <td>Noise - Residential</td>\n",
       "      <td>Loud Music/Party</td>\n",
       "      <td>Closed</td>\n",
       "      <td>52 ARGYLE ROAD</td>\n",
       "      <td>40.648382</td>\n",
       "      <td>-73.967690</td>\n",
       "      <td>Kings County</td>\n",
       "      <td>Brooklyn</td>\n",
       "    </tr>\n",
       "    <tr>\n",
       "      <th>4</th>\n",
       "      <td>2022-04-24 06:37:15</td>\n",
       "      <td>Illegal Parking</td>\n",
       "      <td>Posted Parking Sign Violation</td>\n",
       "      <td>Closed</td>\n",
       "      <td>135-12 130 STREET</td>\n",
       "      <td>40.668335</td>\n",
       "      <td>-73.809944</td>\n",
       "      <td>Queens County</td>\n",
       "      <td>Queens</td>\n",
       "    </tr>\n",
       "  </tbody>\n",
       "</table>\n",
       "</div>"
      ],
      "text/plain": [
       "             dateTime                 category                    subcategory  \\\n",
       "0 2022-04-27 21:33:22          Illegal Parking   Commercial Overnight Parking   \n",
       "1 2022-04-27 19:41:34  Noise - Street/Sidewalk               Loud Music/Party   \n",
       "2 2022-04-26 06:47:28           HEAT/HOT WATER                ENTIRE BUILDING   \n",
       "3 2022-04-17 00:03:22      Noise - Residential               Loud Music/Party   \n",
       "4 2022-04-24 06:37:15          Illegal Parking  Posted Parking Sign Violation   \n",
       "\n",
       "   status                 address   latitude  longitude         county  \\\n",
       "0  Closed          60-67 60 DRIVE  40.715390 -73.903462  Queens County   \n",
       "1  Closed     246 FRANKLIN STREET  40.734386 -73.958320   Kings County   \n",
       "2  Closed  1425 UNIVERSITY AVENUE  40.843456 -73.924705   Bronx County   \n",
       "3  Closed          52 ARGYLE ROAD  40.648382 -73.967690   Kings County   \n",
       "4  Closed       135-12 130 STREET  40.668335 -73.809944  Queens County   \n",
       "\n",
       "    borough  \n",
       "0    Queens  \n",
       "1  Brooklyn  \n",
       "2     Bronx  \n",
       "3  Brooklyn  \n",
       "4    Queens  "
      ]
     },
     "execution_count": 59,
     "metadata": {},
     "output_type": "execute_result"
    }
   ],
   "source": [
    "county_to_borough = {\"Bronx County\": \"Bronx\",\n",
    "                     \"Kings County\": \"Brooklyn\",\n",
    "                     \"New York County\": \"Manhattan\",\n",
    "                     \"Queens County\": \"Queens\",\n",
    "                     \"Richmond County\": \"Staten Island\"}\n",
    "df['borough'] = df['county'].apply(lambda x:county_to_borough[x] if x in county_to_borough.keys() else np.NaN)\n",
    "df = df.dropna(subset=['borough'])\n",
    "df.head()"
   ]
  },
  {
   "cell_type": "markdown",
   "metadata": {},
   "source": [
    "We'll convert the datetime column to a datetime object to make it easier to work with."
   ]
  },
  {
   "cell_type": "code",
   "execution_count": 67,
   "metadata": {},
   "outputs": [],
   "source": [
    "df['dateTime'] = pd.to_datetime(df['dateTime'])"
   ]
  },
  {
   "cell_type": "markdown",
   "metadata": {},
   "source": [
    "To avoid having to load the dataset from azureml and process the data repeatedly, we saved the dataframe to a csv file."
   ]
  },
  {
   "cell_type": "code",
   "execution_count": 63,
   "metadata": {},
   "outputs": [],
   "source": [
    "df.to_csv('nyc_safety.csv', index=False)"
   ]
  },
  {
   "cell_type": "code",
   "execution_count": 69,
   "metadata": {},
   "outputs": [],
   "source": [
    "import pandas as pd"
   ]
  },
  {
   "cell_type": "code",
   "execution_count": 70,
   "metadata": {},
   "outputs": [
    {
     "data": {
      "text/html": [
       "<div>\n",
       "<style scoped>\n",
       "    .dataframe tbody tr th:only-of-type {\n",
       "        vertical-align: middle;\n",
       "    }\n",
       "\n",
       "    .dataframe tbody tr th {\n",
       "        vertical-align: top;\n",
       "    }\n",
       "\n",
       "    .dataframe thead th {\n",
       "        text-align: right;\n",
       "    }\n",
       "</style>\n",
       "<table border=\"1\" class=\"dataframe\">\n",
       "  <thead>\n",
       "    <tr style=\"text-align: right;\">\n",
       "      <th></th>\n",
       "      <th>dateTime</th>\n",
       "      <th>category</th>\n",
       "      <th>subcategory</th>\n",
       "      <th>status</th>\n",
       "      <th>address</th>\n",
       "      <th>latitude</th>\n",
       "      <th>longitude</th>\n",
       "      <th>county</th>\n",
       "      <th>borough</th>\n",
       "    </tr>\n",
       "  </thead>\n",
       "  <tbody>\n",
       "    <tr>\n",
       "      <th>0</th>\n",
       "      <td>2022-04-27 21:33:22</td>\n",
       "      <td>Illegal Parking</td>\n",
       "      <td>Commercial Overnight Parking</td>\n",
       "      <td>Closed</td>\n",
       "      <td>60-67 60 DRIVE</td>\n",
       "      <td>40.715390</td>\n",
       "      <td>-73.903462</td>\n",
       "      <td>Queens County</td>\n",
       "      <td>Queens</td>\n",
       "    </tr>\n",
       "    <tr>\n",
       "      <th>1</th>\n",
       "      <td>2022-04-27 19:41:34</td>\n",
       "      <td>Noise - Street/Sidewalk</td>\n",
       "      <td>Loud Music/Party</td>\n",
       "      <td>Closed</td>\n",
       "      <td>246 FRANKLIN STREET</td>\n",
       "      <td>40.734386</td>\n",
       "      <td>-73.958320</td>\n",
       "      <td>Kings County</td>\n",
       "      <td>Brooklyn</td>\n",
       "    </tr>\n",
       "    <tr>\n",
       "      <th>2</th>\n",
       "      <td>2022-04-26 06:47:28</td>\n",
       "      <td>HEAT/HOT WATER</td>\n",
       "      <td>ENTIRE BUILDING</td>\n",
       "      <td>Closed</td>\n",
       "      <td>1425 UNIVERSITY AVENUE</td>\n",
       "      <td>40.843456</td>\n",
       "      <td>-73.924705</td>\n",
       "      <td>Bronx County</td>\n",
       "      <td>Bronx</td>\n",
       "    </tr>\n",
       "    <tr>\n",
       "      <th>3</th>\n",
       "      <td>2022-04-17 00:03:22</td>\n",
       "      <td>Noise - Residential</td>\n",
       "      <td>Loud Music/Party</td>\n",
       "      <td>Closed</td>\n",
       "      <td>52 ARGYLE ROAD</td>\n",
       "      <td>40.648382</td>\n",
       "      <td>-73.967690</td>\n",
       "      <td>Kings County</td>\n",
       "      <td>Brooklyn</td>\n",
       "    </tr>\n",
       "    <tr>\n",
       "      <th>4</th>\n",
       "      <td>2022-04-24 06:37:15</td>\n",
       "      <td>Illegal Parking</td>\n",
       "      <td>Posted Parking Sign Violation</td>\n",
       "      <td>Closed</td>\n",
       "      <td>135-12 130 STREET</td>\n",
       "      <td>40.668335</td>\n",
       "      <td>-73.809944</td>\n",
       "      <td>Queens County</td>\n",
       "      <td>Queens</td>\n",
       "    </tr>\n",
       "  </tbody>\n",
       "</table>\n",
       "</div>"
      ],
      "text/plain": [
       "              dateTime                 category  \\\n",
       "0  2022-04-27 21:33:22          Illegal Parking   \n",
       "1  2022-04-27 19:41:34  Noise - Street/Sidewalk   \n",
       "2  2022-04-26 06:47:28           HEAT/HOT WATER   \n",
       "3  2022-04-17 00:03:22      Noise - Residential   \n",
       "4  2022-04-24 06:37:15          Illegal Parking   \n",
       "\n",
       "                     subcategory  status                 address   latitude  \\\n",
       "0   Commercial Overnight Parking  Closed          60-67 60 DRIVE  40.715390   \n",
       "1               Loud Music/Party  Closed     246 FRANKLIN STREET  40.734386   \n",
       "2                ENTIRE BUILDING  Closed  1425 UNIVERSITY AVENUE  40.843456   \n",
       "3               Loud Music/Party  Closed          52 ARGYLE ROAD  40.648382   \n",
       "4  Posted Parking Sign Violation  Closed       135-12 130 STREET  40.668335   \n",
       "\n",
       "   longitude         county   borough  \n",
       "0 -73.903462  Queens County    Queens  \n",
       "1 -73.958320   Kings County  Brooklyn  \n",
       "2 -73.924705   Bronx County     Bronx  \n",
       "3 -73.967690   Kings County  Brooklyn  \n",
       "4 -73.809944  Queens County    Queens  "
      ]
     },
     "execution_count": 70,
     "metadata": {},
     "output_type": "execute_result"
    }
   ],
   "source": [
    "df = pd.read_csv(\"nyc_safety.csv\")\n",
    "df.head()"
   ]
  },
  {
   "cell_type": "markdown",
   "metadata": {},
   "source": [
    "Let's see what the distribution of the time of day these services are request. For this we'll plot the data on a histogram. For each of the five service requests, we made a histogram will the frequency of that request for each hour of the day."
   ]
  },
  {
   "cell_type": "code",
   "execution_count": 72,
   "metadata": {
    "scrolled": true
   },
   "outputs": [
    {
     "data": {
      "image/png": "[encoded data removed]",
      "text/plain": [
       "<Figure size 432x288 with 1 Axes>"
      ]
     },
     "metadata": {
      "needs_background": "light"
     },
     "output_type": "display_data"
    },
    {
     "data": {
      "image/png": "[encoded data removed]",
      "text/plain": [
       "<Figure size 432x288 with 1 Axes>"
      ]
     },
     "metadata": {
      "needs_background": "light"
     },
     "output_type": "display_data"
    },
    {
     "data": {
      "image/png": "[encoded data removed]",
      "text/plain": [
       "<Figure size 432x288 with 1 Axes>"
      ]
     },
     "metadata": {
      "needs_background": "light"
     },
     "output_type": "display_data"
    },
    {
     "data": {
      "image/png": "[encoded data removed]",
      "text/plain": [
       "<Figure size 432x288 with 1 Axes>"
      ]
     },
     "metadata": {
      "needs_background": "light"
     },
     "output_type": "display_data"
    },
    {
     "data": {
      "image/png": "[encoded data removed]",
      "text/plain": [
       "<Figure size 432x288 with 1 Axes>"
      ]
     },
     "metadata": {
      "needs_background": "light"
     },
     "output_type": "display_data"
    }
   ],
   "source": [
    "from matplotlib import pyplot as plt\n",
    "import numpy as np\n",
    "\n",
    "for name, group in df.groupby('category'):\n",
    "    fig, ax = plt.subplots()\n",
    "    ax.hist(group['dateTime'].dt.hour, bins=24, edgecolor='black')\n",
    "    plt.title(f\"{name} Requests per Hour\")\n",
    "    plt.xlabel(\"Hour of Day\")\n",
    "    plt.ylabel(f\"Frequency of {name} Requests\")\n",
    "    plt.show()"
   ]
  },
  {
   "cell_type": "code",
   "execution_count": null,
   "metadata": {},
   "outputs": [],
   "source": []
  }
 ],
 "metadata": {
  "kernelspec": {
   "display_name": "Python 3",
   "language": "python",
   "name": "python3"
  },
  "language_info": {
   "codemirror_mode": {
    "name": "ipython",
    "version": 3
   },
   "file_extension": ".py",
   "mimetype": "text/x-python",
   "name": "python",
   "nbconvert_exporter": "python",
   "pygments_lexer": "ipython3",
   "version": "3.8.5"
  }
 },
 "nbformat": 4,
 "nbformat_minor": 4
}
